{
 "cells": [
  {
   "cell_type": "code",
   "execution_count": 1,
   "metadata": {},
   "outputs": [
    {
     "data": {
      "text/plain": [
       "0.1263648085546374"
      ]
     },
     "execution_count": 1,
     "metadata": {},
     "output_type": "execute_result"
    }
   ],
   "source": [
    "import random\n",
    "random.random()"
   ]
  },
  {
   "cell_type": "code",
   "execution_count": 3,
   "metadata": {},
   "outputs": [
    {
     "data": {
      "text/plain": [
       "40"
      ]
     },
     "execution_count": 3,
     "metadata": {},
     "output_type": "execute_result"
    }
   ],
   "source": [
    "s=random.randint(1,100)   # random.randint(min,max)\n",
    "s"
   ]
  },
  {
   "cell_type": "code",
   "execution_count": 4,
   "metadata": {},
   "outputs": [
    {
     "data": {
      "text/plain": [
       "[-4, -2, -5, -1, 4, 0, 4, -2, 2, 0]"
      ]
     },
     "execution_count": 4,
     "metadata": {},
     "output_type": "execute_result"
    }
   ],
   "source": [
    "def get_n_random_numbers(n=10,min_=-5,max_=5):\n",
    "    numbers=[]\n",
    "    for i in range(n):\n",
    "        numbers.append(random.randint(min_,max_))\n",
    "    return numbers\n",
    "get_n_random_numbers() "
   ]
  },
  {
   "cell_type": "code",
   "execution_count": 5,
   "metadata": {},
   "outputs": [
    {
     "data": {
      "text/plain": [
       "[4, -2, -2, 1, 1, -4, -2, 0, 4, 4, -2, -1, 2, -2, -1]"
      ]
     },
     "execution_count": 5,
     "metadata": {},
     "output_type": "execute_result"
    }
   ],
   "source": [
    "my_list= get_n_random_numbers(15,-4,4)\n",
    "my_list"
   ]
  },
  {
   "cell_type": "code",
   "execution_count": 6,
   "metadata": {},
   "outputs": [
    {
     "data": {
      "text/plain": [
       "[4, -2, -2, 1, 1, -4, -2, 0, 4, 4, -2, -1, 2, -2, -1]"
      ]
     },
     "execution_count": 6,
     "metadata": {},
     "output_type": "execute_result"
    }
   ],
   "source": [
    "# for a list [0, -4, 8, -1, 0, -3, 6, 3, 0, 1]# get the histogram , with array of tuples format\n",
    "histgram_1=[    \n",
    "    (-4,1),    \n",
    "    (-3,1),    \n",
    "    (-1,1),    \n",
    "    (0,2),    \n",
    "    (1,1),   \n",
    "    (3,1),    \n",
    "    (6,1),    \n",
    "    (8,1)\n",
    "]\n",
    "my_list"
   ]
  },
  {
   "cell_type": "code",
   "execution_count": 7,
   "metadata": {},
   "outputs": [
    {
     "data": {
      "text/plain": [
       "[-4, -2, -2, -2, -2, -2, -1, -1, 0, 1, 1, 2, 4, 4, 4]"
      ]
     },
     "execution_count": 7,
     "metadata": {},
     "output_type": "execute_result"
    }
   ],
   "source": [
    "sorted(my_list)"
   ]
  },
  {
   "cell_type": "code",
   "execution_count": 8,
   "metadata": {},
   "outputs": [],
   "source": [
    "def my_frequency_with_dict(list):\n",
    "    frequency_dict={} # dict()={}\n",
    "    for item in list:\n",
    "        if (item in frequency_dict):\n",
    "            frequency_dict[item]=frequency_dict[item]+1\n",
    "        else:\n",
    "            frequency_dict[item]=1\n",
    "return frequency_dict"
   ]
  },
  {
   "cell_type": "code",
   "execution_count": 9,
   "metadata": {},
   "outputs": [
    {
     "data": {
      "text/plain": [
       "{4: 3, -2: 5, 1: 2, -4: 1, 0: 1, -1: 2, 2: 1}"
      ]
     },
     "execution_count": 9,
     "metadata": {},
     "output_type": "execute_result"
    }
   ],
   "source": [
    "my_frequency_with_dict(my_list)"
   ]
  },
  {
   "cell_type": "code",
   "execution_count": 10,
   "metadata": {},
   "outputs": [
    {
     "data": {
      "text/plain": [
       "({2: 5, 3: 3, 5: 2, 8: 2, 4: 6}, [[2, 5], [3, 3], [5, 2], [8, 2], [4, 6]])"
      ]
     },
     "execution_count": 10,
     "metadata": {},
     "output_type": "execute_result"
    }
   ],
   "source": [
    "def my_frequency_with_list_of_tuples(list_1):\n",
    "    frequency_list=[]\n",
    "    for i in range(len(list_1)):\n",
    "        s=False\n",
    "    for j in range(len(frequency_list)):\n",
    "        if (list_1[i]==frequency_list[j][0]):\n",
    "            frequency_list[j][1]=frequency_list[j][1]+1\n",
    "            s=True\n",
    "    if(s==False):\n",
    "        frequency_list.append([list_1[i],1])\n",
    "return frequency_list\n",
    "my_list=[2,3,2,5,8,2,4,3,3,2,8,5,2,4,4,4,4,4]\n",
    "result_1=my_frequency_with_dict(my_list)\n",
    "result_2=my_frequency_with_list_of_tuples(my_list)\n",
    "result_1,result_2\n"
   ]
  },
  {
   "cell_type": "code",
   "execution_count": 11,
   "metadata": {},
   "outputs": [
    {
     "data": {
      "text/plain": [
       "{1: 2, 2: 1, -2: 1, 0: 1}"
      ]
     },
     "execution_count": 11,
     "metadata": {},
     "output_type": "execute_result"
    }
   ],
   "source": [
    "my_list_1=get_n_random_numbers(5,-2,2)\n",
    "my_hist_d=my_frequency_with_dict(my_list_1)\n",
    "my_hist_d"
   ]
  },
  {
   "cell_type": "code",
   "execution_count": 12,
   "metadata": {},
   "outputs": [
    {
     "data": {
      "text/plain": [
       "[[1, 2], [2, 1], [-2, 1], [0, 1]]"
      ]
     },
     "execution_count": 12,
     "metadata": {},
     "output_type": "execute_result"
    }
   ],
   "source": [
    "my_hist_l=my_frequency_with_list_of_tuples(my_list_1)\n",
    "my_hist_l"
   ]
  },
  {
   "cell_type": "code",
   "execution_count": 13,
   "metadata": {},
   "outputs": [
    {
     "name": "stdout",
     "output_type": "stream",
     "text": [
      "1 2\n",
      "2 1\n",
      "-2 1\n",
      "0 1\n"
     ]
    },
    {
     "data": {
      "text/plain": [
       "(1, 2)"
      ]
     },
     "execution_count": 13,
     "metadata": {},
     "output_type": "execute_result"
    }
   ],
   "source": [
    "# to get mode , we have to search all keys on hist_dict\n",
    "frequency_max=-1 # mode değeri, döngüde karşılaştırılacak hafıza amaçlı değer\n",
    "mode=-1\n",
    "for key in my_hist_d.keys():\n",
    "    print(key,my_hist_d[key])\n",
    "    if my_hist_d[key]>frequency_max:\n",
    "        frequency_max=my_hist_d[key]\n",
    "        mode=key\n",
    "mode,frequency_max"
   ]
  },
  {
   "cell_type": "code",
   "execution_count": 15,
   "metadata": {},
   "outputs": [
    {
     "data": {
      "text/plain": [
       "(1, 2)"
      ]
     },
     "execution_count": 15,
     "metadata": {},
     "output_type": "execute_result"
    }
   ],
   "source": [
    "# to get mode , we have to search all keys on hist_dict\n",
    "def my_mode_with_dict(my_hist_d):\n",
    "    frequency_max=-1 # mode değeri, döngüde karşılaştırılacak hafıza amaçlı değer\n",
    "    mode=-1\n",
    "    for key in my_hist_d.keys():\n",
    " # print(key,my_hist_d[key])\n",
    "     if my_hist_d[key]>frequency_max:\n",
    "        frequency_max=my_hist_d[key]\n",
    "        mode=key\n",
    "    return mode,frequency_max\n",
    "my_mode_with_dict(my_hist_d)\n"
   ]
  },
  {
   "cell_type": "code",
   "execution_count": 16,
   "metadata": {},
   "outputs": [
    {
     "data": {
      "text/plain": [
       "(-11, 5)"
      ]
     },
     "execution_count": 16,
     "metadata": {},
     "output_type": "execute_result"
    }
   ],
   "source": [
    "my_list_100=get_n_random_numbers(100,-40,40)\n",
    "my_hist_1=my_frequency_with_dict(my_list_100)\n",
    "my_mode_with_dict(my_hist_1)"
   ]
  },
  {
   "cell_type": "code",
   "execution_count": 17,
   "metadata": {},
   "outputs": [
    {
     "data": {
      "text/plain": [
       "[-40,\n",
       " -39,\n",
       " -38,\n",
       " -37,\n",
       " -37,\n",
       " -37,\n",
       " -35,\n",
       " -35,\n",
       " -33,\n",
       " -32,\n",
       " -32,\n",
       " -32,\n",
       " -31,\n",
       " -30,\n",
       " -30,\n",
       " -30,\n",
       " -29,\n",
       " -28,\n",
       " -28,\n",
       " -25,\n",
       " -25,\n",
       " -25,\n",
       " -23,\n",
       " -22,\n",
       " -20,\n",
       " -18,\n",
       " -17,\n",
       " -16,\n",
       " -16,\n",
       " -13,\n",
       " -12,\n",
       " -12,\n",
       " -11,\n",
       " -11,\n",
       " -11,\n",
       " -11,\n",
       " -11,\n",
       " -7,\n",
       " -6,\n",
       " -6,\n",
       " -5,\n",
       " -5,\n",
       " -3,\n",
       " -2,\n",
       " -2,\n",
       " -1,\n",
       " -1,\n",
       " 0,\n",
       " 1,\n",
       " 2,\n",
       " 3,\n",
       " 3,\n",
       " 3,\n",
       " 3,\n",
       " 4,\n",
       " 4,\n",
       " 4,\n",
       " 6,\n",
       " 7,\n",
       " 7,\n",
       " 8,\n",
       " 8,\n",
       " 8,\n",
       " 8,\n",
       " 10,\n",
       " 11,\n",
       " 11,\n",
       " 12,\n",
       " 12,\n",
       " 14,\n",
       " 15,\n",
       " 16,\n",
       " 18,\n",
       " 18,\n",
       " 19,\n",
       " 20,\n",
       " 21,\n",
       " 22,\n",
       " 22,\n",
       " 22,\n",
       " 27,\n",
       " 27,\n",
       " 28,\n",
       " 29,\n",
       " 29,\n",
       " 29,\n",
       " 32,\n",
       " 33,\n",
       " 34,\n",
       " 34,\n",
       " 35,\n",
       " 35,\n",
       " 36,\n",
       " 36,\n",
       " 37,\n",
       " 37,\n",
       " 37,\n",
       " 38,\n",
       " 39,\n",
       " 40]"
      ]
     },
     "execution_count": 17,
     "metadata": {},
     "output_type": "execute_result"
    }
   ],
   "source": [
    "my_hist_1\n",
    "sorted(my_list_100)"
   ]
  },
  {
   "cell_type": "code",
   "execution_count": 18,
   "metadata": {},
   "outputs": [
    {
     "data": {
      "text/plain": [
       "[[-4, 1], [1, 2], [-1, 2], [5, 1], [-5, 1], [-2, 1], [4, 2]]"
      ]
     },
     "execution_count": 18,
     "metadata": {},
     "output_type": "execute_result"
    }
   ],
   "source": [
    "my_list_1=get_n_random_numbers(10)\n",
    "my_hist_list=my_frequency_with_list_of_tuples(my_list_1)\n",
    "my_hist_list\n"
   ]
  },
  {
   "cell_type": "code",
   "execution_count": 19,
   "metadata": {},
   "outputs": [
    {
     "name": "stdout",
     "output_type": "stream",
     "text": [
      "-4 1\n",
      "1 2\n",
      "-1 2\n",
      "5 1\n",
      "-5 1\n",
      "-2 1\n",
      "4 2\n"
     ]
    },
    {
     "data": {
      "text/plain": [
       "(1, 2)"
      ]
     },
     "execution_count": 19,
     "metadata": {},
     "output_type": "execute_result"
    }
   ],
   "source": [
    "# to get mode , we have to search all keys on hist_dict\n",
    "frequency_max=-1 # mode değeri, döngüde karşılaştırılacak hafıza amaçlı değer\n",
    "mode=-1\n",
    "for item,frequency in my_hist_list:\n",
    "    print(item,frequency)\n",
    "    if frequency>frequency_max:\n",
    "        frequency_max=frequency\n",
    "        mode=item\n",
    "mode,frequency_max"
   ]
  },
  {
   "cell_type": "code",
   "execution_count": 21,
   "metadata": {},
   "outputs": [
    {
     "name": "stdout",
     "output_type": "stream",
     "text": [
      "-4 1\n",
      "1 2\n",
      "-1 2\n",
      "5 1\n",
      "-5 1\n",
      "-2 1\n",
      "4 2\n"
     ]
    },
    {
     "data": {
      "text/plain": [
       "(1, 2)"
      ]
     },
     "execution_count": 21,
     "metadata": {},
     "output_type": "execute_result"
    }
   ],
   "source": [
    "# to get mode , we have to search all keys on hist_dict\n",
    "def my_mode_with_list(my_hist_list):\n",
    "    frequency_max=-1 # mode değeri, döngüde karşılaştırılacak hafıza amaçlı değer\n",
    "    mode=-1\n",
    "    for item,frequency in my_hist_list:\n",
    "        print(item,frequency)\n",
    "        if frequency>frequency_max:\n",
    "            frequency_max=frequency\n",
    "            mode=item\n",
    "    return mode,frequency_max\n",
    "\n",
    "my_mode_with_list(my_hist_list)"
   ]
  },
  {
   "cell_type": "code",
   "execution_count": 22,
   "metadata": {},
   "outputs": [
    {
     "name": "stdout",
     "output_type": "stream",
     "text": [
      "-1 5\n",
      "-2 2\n",
      "3 4\n",
      "-3 2\n",
      "-4 3\n",
      "4 2\n",
      "2 1\n",
      "1 1\n"
     ]
    },
    {
     "data": {
      "text/plain": [
       "(-1, 5)"
      ]
     },
     "execution_count": 22,
     "metadata": {},
     "output_type": "execute_result"
    }
   ],
   "source": [
    "my_list_100=get_n_random_numbers(20,-4,4)\n",
    "my_hist_1=my_frequency_with_list_of_tuples(my_list_100)\n",
    "my_mode_with_list(my_hist_1)\n"
   ]
  },
  {
   "cell_type": "code",
   "execution_count": 23,
   "metadata": {},
   "outputs": [
    {
     "data": {
      "text/plain": [
       "[-1, -2, 3, -3, 3, -1, -4, -4, 4, 4, 3, -2, 2, -1, -1, -1, -4, 1, -3, 3]"
      ]
     },
     "execution_count": 23,
     "metadata": {},
     "output_type": "execute_result"
    }
   ],
   "source": [
    "my_list_100"
   ]
  },
  {
   "cell_type": "code",
   "execution_count": 28,
   "metadata": {},
   "outputs": [
    {
     "data": {
      "text/plain": [
       "[5, 1, 3, 1, 4, -5, -3, 5, 5, -2]"
      ]
     },
     "execution_count": 28,
     "metadata": {},
     "output_type": "execute_result"
    }
   ],
   "source": [
    "def my_linear_search(my_list,item_search):\n",
    "    found=(-1,-1) # default, eğer listede yoksa\n",
    "    n=len(my_list)\n",
    "    for indis in range(n):\n",
    "        if my_list[indis]==item_search:\n",
    "            found=(my_list[indis],indis) # listede bulundu, return bulunn sayı, indisi\n",
    " # break, uncomment for last found\n",
    "    return found\n",
    "my_list=get_n_random_numbers(10,-5,5)\n",
    "my_list"
   ]
  },
  {
   "cell_type": "code",
   "execution_count": 29,
   "metadata": {},
   "outputs": [
    {
     "data": {
      "text/plain": [
       "(-1, -1)"
      ]
     },
     "execution_count": 29,
     "metadata": {},
     "output_type": "execute_result"
    }
   ],
   "source": [
    "my_linear_search(my_list,10)"
   ]
  },
  {
   "cell_type": "code",
   "execution_count": 30,
   "metadata": {},
   "outputs": [
    {
     "data": {
      "text/plain": [
       "[41, -19, -40, 8, -10, 26, -44, 48, -32, 9]"
      ]
     },
     "execution_count": 30,
     "metadata": {},
     "output_type": "execute_result"
    }
   ],
   "source": [
    "my_list=get_n_random_numbers(10,-50,50)\n",
    "my_list"
   ]
  },
  {
   "cell_type": "code",
   "execution_count": 31,
   "metadata": {},
   "outputs": [
    {
     "data": {
      "text/plain": [
       "-1.3"
      ]
     },
     "execution_count": 31,
     "metadata": {},
     "output_type": "execute_result"
    }
   ],
   "source": [
    "s,t=0,0\n",
    "for item in my_list:\n",
    "    s=s+1\n",
    "    t=t+item\n",
    "mean_=t/s\n",
    "mean_\n"
   ]
  },
  {
   "cell_type": "code",
   "execution_count": 32,
   "metadata": {},
   "outputs": [
    {
     "name": "stdout",
     "output_type": "stream",
     "text": [
      "[2, -3, 0, -4]\n"
     ]
    },
    {
     "data": {
      "text/plain": [
       "-1.25"
      ]
     },
     "execution_count": 32,
     "metadata": {},
     "output_type": "execute_result"
    }
   ],
   "source": [
    "def my_mean(my_list):\n",
    "    s,t=0,0\n",
    "    for item in my_list:\n",
    "        s=s+1\n",
    "        t=t+item\n",
    "    mean_=t/s\n",
    "    return mean_\n",
    "my_list=get_n_random_numbers(4,-5,5)\n",
    "print(my_list)\n",
    "my_mean(my_list)"
   ]
  },
  {
   "cell_type": "code",
   "execution_count": 33,
   "metadata": {},
   "outputs": [
    {
     "data": {
      "text/plain": [
       "[2, -3, 0, -4]"
      ]
     },
     "execution_count": 33,
     "metadata": {},
     "output_type": "execute_result"
    }
   ],
   "source": [
    "my_list"
   ]
  },
  {
   "cell_type": "code",
   "execution_count": 34,
   "metadata": {},
   "outputs": [
    {
     "name": "stdout",
     "output_type": "stream",
     "text": [
      "[2, -3, 0, -4]\n",
      "[-4, -3, 0, 2]\n"
     ]
    }
   ],
   "source": [
    "n=len(my_list)\n",
    "print(my_list)\n",
    "for i in range(n-1,-1,-1):\n",
    "     for j in range(0,i):\n",
    "        if not(my_list[j]<my_list[j+1]):\n",
    " # print(\"swap işlemi\")\n",
    "             temp=my_list[j]\n",
    "             my_list[j]=my_list[j+1]\n",
    "             my_list[j+1]=temp\n",
    "print(my_list)"
   ]
  },
  {
   "cell_type": "code",
   "execution_count": 35,
   "metadata": {},
   "outputs": [
    {
     "name": "stdout",
     "output_type": "stream",
     "text": [
      "[1, 4, -5, 5]\n"
     ]
    },
    {
     "data": {
      "text/plain": [
       "[-5, 1, 4, 5]"
      ]
     },
     "execution_count": 35,
     "metadata": {},
     "output_type": "execute_result"
    }
   ],
   "source": [
    "# with function\n",
    "def my_bubble_sort(my_list):\n",
    "    n=len(my_list)\n",
    " #print(my_list)\n",
    "    for i in range(n-1,-1,-1):\n",
    "        for j in range(0,i):\n",
    "            if not(my_list[j]<my_list[j+1]):\n",
    " # print(\"swap işlemi\")\n",
    "                temp=my_list[j]\n",
    "                my_list[j]=my_list[j+1]\n",
    "                my_list[j+1]=temp\n",
    "    return my_list\n",
    "my_list=get_n_random_numbers(4,-5,5)\n",
    "print(my_list)\n",
    "my_bubble_sort(my_list)"
   ]
  },
  {
   "cell_type": "code",
   "execution_count": 38,
   "metadata": {},
   "outputs": [
    {
     "name": "stdout",
     "output_type": "stream",
     "text": [
      "liste  [-2, 0, 3, -5, -2, -1, 1, -4, 0, 3]\n",
      "sırali liste [-5, -4, -2, -2, -1, 0, 0, 1, 3, 3]\n"
     ]
    },
    {
     "data": {
      "text/plain": [
       "(3, 8)"
      ]
     },
     "execution_count": 38,
     "metadata": {},
     "output_type": "execute_result"
    }
   ],
   "source": [
    "def my_binary_search(my_list, item_search):\n",
    "    found=(-1,-1)\n",
    "    low = 0\n",
    "    high = len(my_list) - 1\n",
    "    while low <= high:\n",
    "        mid = (low + high) // 2\n",
    "        if my_list[mid] == item_search:\n",
    "            return my_list[mid],mid\n",
    "        elif my_list[mid] > item_search:\n",
    "            high = mid - 1\n",
    "        else:\n",
    "            low = mid + 1\n",
    "    return found # None\n",
    "\n",
    "my_list_1=get_n_random_numbers(10)\n",
    "print(\"liste \",my_list_1)\n",
    "my_list_2=my_bubble_sort(my_list_1)\n",
    "print(\"sırali liste\",my_list_2)\n",
    "my_binary_search(my_list_2,3) # 1"
   ]
  },
  {
   "cell_type": "code",
   "execution_count": 39,
   "metadata": {},
   "outputs": [
    {
     "name": "stdout",
     "output_type": "stream",
     "text": [
      "dizi boyutunu giriniz7\n",
      "liste  [1, 0, 5, 4, 4, 3, 0]\n"
     ]
    }
   ],
   "source": [
    "size=input(\"dizi boyutunu giriniz\")\n",
    "size=int(size) # convert str to int\n",
    "my_list_1=get_n_random_numbers(size)\n",
    "print(\"liste \",my_list_1)"
   ]
  },
  {
   "cell_type": "code",
   "execution_count": 41,
   "metadata": {},
   "outputs": [],
   "source": [
    "my_list_2=my_bubble_sort(my_list_1)"
   ]
  },
  {
   "cell_type": "code",
   "execution_count": 42,
   "metadata": {},
   "outputs": [
    {
     "name": "stdout",
     "output_type": "stream",
     "text": [
      "[0, 0, 1, 3, 4, 4, 5]\n",
      "4\n"
     ]
    }
   ],
   "source": [
    "print(my_list_2)\n",
    "n=len(my_list_2)\n",
    "if n%2==1:\n",
    "    middle=int(n/2)+1\n",
    "    median=my_list_2[middle]\n",
    "    print(median)\n",
    "\n",
    "else:\n",
    "    middle_1=my_list_2[int(n/2)]\n",
    "    middle_2=my_list_2[int(n/2)+1]\n",
    "    median=(middle_1+middle_2)/2\n",
    "    print (median)"
   ]
  },
  {
   "cell_type": "code",
   "execution_count": 44,
   "metadata": {},
   "outputs": [
    {
     "data": {
      "text/plain": [
       "4.5"
      ]
     },
     "execution_count": 44,
     "metadata": {},
     "output_type": "execute_result"
    }
   ],
   "source": [
    "def my_median(my_list):\n",
    "    my_list_2=my_bubble_sort(my_list)\n",
    " #print(my_list_2)\n",
    "    n=len(my_list_2)\n",
    "    if n%2==1:\n",
    "        middle=int(n/2)+1\n",
    "        median=my_list_2[middle]\n",
    " #print(median)\n",
    "    else:\n",
    "        middle_1=my_list_2[int(n/2)]\n",
    "        middle_2=my_list_2[int(n/2)+1]\n",
    "        median=(middle_1+middle_2)/2\n",
    " #print (median)\n",
    "\n",
    "    return median\n",
    "my_list_2=get_n_random_numbers(6,-10,10)\n",
    "my_median(my_list_2)"
   ]
  }
 ],
 "metadata": {
  "kernelspec": {
   "display_name": "Python 3",
   "language": "python",
   "name": "python3"
  },
  "language_info": {
   "codemirror_mode": {
    "name": "ipython",
    "version": 3
   },
   "file_extension": ".py",
   "mimetype": "text/x-python",
   "name": "python",
   "nbconvert_exporter": "python",
   "pygments_lexer": "ipython3",
   "version": "3.7.4"
  }
 },
 "nbformat": 4,
 "nbformat_minor": 2
}
