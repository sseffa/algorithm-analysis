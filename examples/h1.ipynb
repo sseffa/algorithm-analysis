{
 "cells": [
  {
   "cell_type": "code",
   "execution_count": 14,
   "metadata": {
    "collapsed": true
   },
   "outputs": [],
   "source": [
    "def myf_2(l =[4,-3,5,-2,-1,2,6,-2]):\n",
    "    n=len(l)\n",
    "    maxSum=0\n",
    "    s=0\n",
    "    for i in range(n):\n",
    "        t=0\n",
    "        for j in range(i,n):\n",
    "            t=t+l[j]\n",
    "            s=s+1\n",
    "        if t>maxSum:\n",
    "            maxSum=t\n",
    "    return maxSum,s"
   ]
  },
  {
   "cell_type": "code",
   "execution_count": 16,
   "metadata": {},
   "outputs": [
    {
     "data": {
      "text/plain": [
       "(9, 36)"
      ]
     },
     "execution_count": 16,
     "metadata": {},
     "output_type": "execute_result"
    }
   ],
   "source": [
    "myf_2()"
   ]
  },
  {
   "cell_type": "code",
   "execution_count": 18,
   "metadata": {
    "collapsed": true
   },
   "outputs": [],
   "source": [
    "def myf_21(l =[4,-3,5,2,-1,2,6,-2]):\n",
    "    n=len(l)\n",
    "    maxSum=0\n",
    "    s=0\n",
    "    for i in range(n):\n",
    "        t=0\n",
    "        for j in range(i,n):\n",
    "            t=t+l[j]\n",
    "            s=s+1\n",
    "            if t>maxSum:\n",
    "                i1,i2=i,j\n",
    "                maxSum=t\n",
    "    return maxSum ,i1,i2,s"
   ]
  },
  {
   "cell_type": "code",
   "execution_count": 19,
   "metadata": {},
   "outputs": [
    {
     "data": {
      "text/plain": [
       "(15, 0, 6, 36)"
      ]
     },
     "execution_count": 19,
     "metadata": {},
     "output_type": "execute_result"
    }
   ],
   "source": [
    "myf_21()"
   ]
  },
  {
   "cell_type": "code",
   "execution_count": 44,
   "metadata": {},
   "outputs": [],
   "source": [
    "def myf_3(l =[4,-3,5,2,-1,2,6,-2]): #listeyi ikiye bölüp sağ ve sağa doğru max Sum bulma\n",
    "    n=len(l)\n",
    "    if n==1:\n",
    "        return l[0]\n",
    "    else:\n",
    "        left= l[0:n//2]\n",
    "        right = l[(n//2):n]\n",
    "        \n",
    "        left_sum= myf_3(left)\n",
    "        right_sum=myf_3(right)\n",
    "        t=0\n",
    "        \n",
    "        centerSum=0\n",
    "        tempSum_left=0\n",
    "        for i in range(n//2-1,-1,-1):\n",
    "            t=t+l[i]\n",
    "            if t>tempSum_left:\n",
    "                tempSum_left=t\n",
    "        tempSum_right=0\n",
    "        for i in range(n//2,n):\n",
    "            t=t+l[i]\n",
    "            if t>tempSum_right:\n",
    "                tempSum_right=t\n",
    "        centerSum=tempSum_left+tempSum_right\n",
    "        return max_of_three(left_sum,right_sum,centerSum)\n",
    "    \n",
    "    "
   ]
  },
  {
   "cell_type": "code",
   "execution_count": 45,
   "metadata": {
    "collapsed": true
   },
   "outputs": [],
   "source": [
    "def max_of_two(a,b):\n",
    "    if a>b:\n",
    "        return a\n",
    "    else:\n",
    "        return b\n",
    "def max_of_three(a,b,c):\n",
    "    return (max_of_two(a,max_of_two(b,c)))"
   ]
  },
  {
   "cell_type": "code",
   "execution_count": 46,
   "metadata": {},
   "outputs": [
    {
     "data": {
      "text/plain": [
       "23"
      ]
     },
     "execution_count": 46,
     "metadata": {},
     "output_type": "execute_result"
    }
   ],
   "source": [
    "myf_3()"
   ]
  },
  {
   "cell_type": "code",
   "execution_count": null,
   "metadata": {
    "collapsed": true
   },
   "outputs": [],
   "source": []
  },
  {
   "cell_type": "code",
   "execution_count": null,
   "metadata": {
    "collapsed": true
   },
   "outputs": [],
   "source": []
  }
 ],
 "metadata": {
  "anaconda-cloud": {},
  "kernelspec": {
   "display_name": "Python 3",
   "language": "python",
   "name": "python3"
  },
  "language_info": {
   "codemirror_mode": {
    "name": "ipython",
    "version": 3
   },
   "file_extension": ".py",
   "mimetype": "text/x-python",
   "name": "python",
   "nbconvert_exporter": "python",
   "pygments_lexer": "ipython3",
   "version": "3.7.4"
  }
 },
 "nbformat": 4,
 "nbformat_minor": 1
}
